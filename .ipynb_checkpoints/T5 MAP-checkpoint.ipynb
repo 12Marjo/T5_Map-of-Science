{
 "cells": [
  {
   "cell_type": "code",
   "execution_count": 3,
   "id": "249b2ea4",
   "metadata": {},
   "outputs": [],
   "source": [
    "import re\n",
    "import csv"
   ]
  },
  {
   "cell_type": "code",
   "execution_count": 4,
   "id": "8163aa08",
   "metadata": {},
   "outputs": [],
   "source": [
    "with open('pubmed-diabetesme-set.txt', encoding=\"utf8\") as f:\n",
    "    my_text = f.read()"
   ]
  },
  {
   "cell_type": "code",
   "execution_count": 5,
   "id": "7cc324cb",
   "metadata": {},
   "outputs": [
    {
     "data": {
      "text/plain": [
       "23282494"
      ]
     },
     "execution_count": 5,
     "metadata": {},
     "output_type": "execute_result"
    }
   ],
   "source": [
    "len(my_text)\n"
   ]
  },
  {
   "cell_type": "code",
   "execution_count": 7,
   "id": "dc9fba71",
   "metadata": {},
   "outputs": [],
   "source": [
    "# Escojo de todos los AD todas las direcciones donde se realizaron las publicaciones de mi tema de interes \n"
   ]
  },
  {
   "cell_type": "code",
   "execution_count": 8,
   "id": "d8fea23f",
   "metadata": {},
   "outputs": [],
   "source": [
    "# Al unir en una sola linea se facilita el trabajo de poder encontrarlas rapido\n",
    "\n",
    "my_text = re.sub(r'\\n\\s{6}', ' ', my_text)"
   ]
  },
  {
   "cell_type": "code",
   "execution_count": 9,
   "id": "a7a3ae12",
   "metadata": {},
   "outputs": [
    {
     "name": "stdout",
     "output_type": "stream",
     "text": [
      "PMID- 27159875\n",
      "OWN - NLM\n",
      "STAT- MEDLINE\n",
      "DCOM- 20171208\n",
      "LR  - 20181113\n",
      "IS  - 1945-7189 (Electronic)\n",
      "IS  - 0163-769X (Print)\n",
      "IS  - 0163-769X (Linking)\n",
      "VI  - 37\n",
      "IP  - 3\n",
      "DP  - 2016 Jun\n",
      "TI  - Sex and Gender Differences in Risk, Pathophysiology and Complications of Type 2  Diabetes Mellitus.\n",
      "PG  - 278-316\n",
      "LID - 10.1210/er.2015-1137 [doi]\n",
      "AB  - The steep rise of type 2 diabetes mellitus (T2DM) and associated complications go  along with mounting evidence of clinically important sex and gender differences.  T2DM is more frequently diagnosed at lower age and body mass index in men; however,  the most prominent risk factor, which is obesity, is more common in women.  Generally, large sex-ratio differences across countries are observed. Diversities in  biology, culture, lifestyle, environment, and socioeconomic status impact  differences between males and females in predisposition, development, and clinical  presentation. Genetic effects and epigenetic mechanisms, nutritional factors and  sedentary lifestyle affect risk and complications differently in both sexes.  Furthermore, sex hormones have a great impact on energy metabolism, body  composition, vascular function, and inflammatory responses. Thus, endocrine  imbalances relate to unfavorable cardiometabolic traits, observable in women with  androgen excess or men with hypogonadism. Both biological and psychosocial factors  are responsible for sex and gender differences in diabetes risk and outcome.  Overall, psychosocial stress appears to have greater impact on women rather than on  men. In addition, women have greater increases of cardiovascular risk, myocardial  infarction, and stroke mortality than men, compared with nondiabetic subjects.  However, when dialysis therapy is initiated, mortality is comparable in both males  and females. Diabetes appears to attenuate the protective effect of the female sex  in the development of cardiac diseases and nephropathy. Endocrine and behavioral  factors are involved in gender inequ\n"
     ]
    }
   ],
   "source": [
    "print(my_text[:2000])\n"
   ]
  },
  {
   "cell_type": "code",
   "execution_count": 10,
   "id": "64702872",
   "metadata": {},
   "outputs": [],
   "source": [
    "# Luego de comparar que todo se halle en la misma linea, uso el comando findall para encontrar a todos las filas que comienzen con AD"
   ]
  },
  {
   "cell_type": "code",
   "execution_count": 11,
   "id": "51cd1d97",
   "metadata": {},
   "outputs": [
    {
     "name": "stdout",
     "output_type": "stream",
     "text": [
      "15721\n"
     ]
    }
   ],
   "source": [
    "lcc = re.findall(r\"AD\\s+\\-\\s\\w.+\", my_text)\n",
    "print(len(lcc))"
   ]
  },
  {
   "cell_type": "code",
   "execution_count": null,
   "id": "356e1df9",
   "metadata": {},
   "outputs": [],
   "source": [
    "print(lcc[:1]) #Minimizo los resultados"
   ]
  },
  {
   "cell_type": "code",
   "execution_count": null,
   "id": "a929773f",
   "metadata": {},
   "outputs": [],
   "source": [
    "#lsce=elimino los correos de todos los AD\n",
    "lsce = []\n",
    "for r in range(len(lcc)):\n",
    "    q_n = re.sub(r\"(?:[a-z0-9!#$%&'*+/=?^_`{|}~-]+(?:\\.[a-z0-9!#$%&'*+/=?^_`{|}~-]+)*|\\\"(?:[\\x01-\\x08\\x0b\\x0c\\x0e-\\x1f\\x21\\x23-\\x5b\\x5d-\\x7f]|\\\\[\\x01-\\x09\\x0b\\x0c\\x0e-\\x7f])*\\\")@(?:(?:[a-z0-9](?:[a-z0-9-]*[a-z0-9])?\\.)+[a-z0-9](?:[a-z0-9-]*[a-z0-9])?|\\[(?:(?:(2(5[0-5]|[0-4][0-9])|1[0-9][0-9]|[1-9]?[0-9]))\\.){3}(?:(2(5[0-5]|[0-4][0-9])|1[0-9][0-9]|[1-9]?[0-9])|[a-z0-9-]*[a-z0-9]:(?:[\\x01-\\x08\\x0b\\x0c\\x0e-\\x1f\\x21-\\x5a\\x53-\\x7f]|\\\\[\\x01-\\x09\\x0b\\x0c\\x0e-\\x7f])+)\\])\",'',str(lcc))\n",
    "    lsce.append(q_n)\n",
    "    \n",
    "print(lsce[:1])"
   ]
  },
  {
   "cell_type": "code",
   "execution_count": null,
   "id": "770d3256",
   "metadata": {},
   "outputs": [],
   "source": [
    "print(len(lcc))\n",
    "print(len(lsce))\n",
    "# la longitud de la lista con y sin correos es el mismo por lo que debe estar bien"
   ]
  },
  {
   "cell_type": "code",
   "execution_count": null,
   "id": "45816e6c",
   "metadata": {},
   "outputs": [],
   "source": [
    "zipcodes = re.findall(r\"\\s+\\w+[.$]\", str(lsce))\n",
    "print(zipcodes[:10])\n"
   ]
  },
  {
   "cell_type": "code",
   "execution_count": null,
   "id": "f8df92cd",
   "metadata": {},
   "outputs": [],
   "source": [
    "len(zipcodes)"
   ]
  },
  {
   "cell_type": "code",
   "execution_count": null,
   "id": "9dcf1316",
   "metadata": {},
   "outputs": [],
   "source": [
    "#utilizo dos comandos list para  convertir una tupla en lista y con set un elemento configurable"
   ]
  },
  {
   "cell_type": "code",
   "execution_count": null,
   "id": "084e78f3",
   "metadata": {},
   "outputs": [],
   "source": [
    "unique_zipcodes.sort()#ordeno los elementos de mi lista en orden alfabetico"
   ]
  },
  {
   "cell_type": "code",
   "execution_count": null,
   "id": "24f9a08d",
   "metadata": {},
   "outputs": [],
   "source": [
    "#se verifica\n",
    "unique_zipcodes[10:20]"
   ]
  },
  {
   "cell_type": "code",
   "execution_count": null,
   "id": "3850e871",
   "metadata": {},
   "outputs": [],
   "source": [
    "len(unique_zipcodes)"
   ]
  },
  {
   "cell_type": "code",
   "execution_count": null,
   "id": "80740543",
   "metadata": {},
   "outputs": [],
   "source": [
    "import pandas as pd\n",
    "import re"
   ]
  },
  {
   "cell_type": "code",
   "execution_count": null,
   "id": "94973ad9",
   "metadata": {},
   "outputs": [],
   "source": [
    "#Con los siguientes comandos defino mi tabla\n",
    "datos = pd.read_csv('zipcodes_coordinates.csv')\n",
    "df = pd.DataFrame(datos)"
   ]
  },
  {
   "cell_type": "code",
   "execution_count": null,
   "id": "355202f1",
   "metadata": {},
   "outputs": [],
   "source": [
    "#listado de paises\n",
    "paises = df ['name'].str.extract('(\\w+)')\n",
    "print(paises)\n"
   ]
  },
  {
   "cell_type": "code",
   "execution_count": null,
   "id": "bc2be876",
   "metadata": {},
   "outputs": [],
   "source": [
    "#listado de latitudes\n",
    "latitudes = df['latitude'].astype(str).str.extract('(\\d+(?:\\.\\d+)?)')\n",
    "print(latitudes)"
   ]
  },
  {
   "cell_type": "code",
   "execution_count": null,
   "id": "5a25ea0d",
   "metadata": {},
   "outputs": [],
   "source": [
    "#listado de longitudes\n",
    "longitudes = df['longitude'].astype(str).str.extract('(\\d+(?:\\.\\d+)?)')\n",
    "print(longitudes)"
   ]
  }
 ],
 "metadata": {
  "kernelspec": {
   "display_name": "Python 3",
   "language": "python",
   "name": "python3"
  },
  "language_info": {
   "codemirror_mode": {
    "name": "ipython",
    "version": 3
   },
   "file_extension": ".py",
   "mimetype": "text/x-python",
   "name": "python",
   "nbconvert_exporter": "python",
   "pygments_lexer": "ipython3",
   "version": "3.8.8"
  }
 },
 "nbformat": 4,
 "nbformat_minor": 5
}
